{
 "cells": [
  {
   "cell_type": "code",
   "execution_count": 1,
   "id": "1c798b7e-adac-49ad-b882-ea3e49f7efb9",
   "metadata": {},
   "outputs": [
    {
     "ename": "SyntaxError",
     "evalue": "invalid syntax (2675404882.py, line 1)",
     "output_type": "error",
     "traceback": [
      "\u001b[0;36m  Cell \u001b[0;32mIn[1], line 1\u001b[0;36m\u001b[0m\n\u001b[0;31m    A doubly linked list is a data structure consisting of nodes, where each node contains three components: a data field, a pointer to the next node (next), and a pointer to the previous node (prev). This allows traversal in both directions (forward and backward).\u001b[0m\n\u001b[0m      ^\u001b[0m\n\u001b[0;31mSyntaxError\u001b[0m\u001b[0;31m:\u001b[0m invalid syntax\n"
     ]
    }
   ],
   "source": [
    "A doubly linked list is a data structure consisting of nodes, where each node contains three components: a data field, a pointer to the next node (next), and a pointer to the previous node (prev). This allows traversal in both directions (forward and backward)."
   ]
  },
  {
   "cell_type": "code",
   "execution_count": 2,
   "id": "fc34eeb5-bda4-4b5b-9d92-b3a45fe96897",
   "metadata": {},
   "outputs": [],
   "source": [
    "class Node:\n",
    "    def __init__(self, data):\n",
    "        self.data = data\n",
    "        self.next = None\n",
    "        self.prev = None\n",
    "\n",
    "def reverse(head):\n",
    "    prev = None\n",
    "    current = head\n",
    "    while current is not None:\n",
    "        next = current.next\n",
    "        current.next = prev\n",
    "        prev = current\n",
    "        current = next\n",
    "    return prev"
   ]
  },
  {
   "cell_type": "code",
   "execution_count": 3,
   "id": "4bd41adc-464b-4a4e-aa30-ff56527eb021",
   "metadata": {},
   "outputs": [],
   "source": [
    "def has_cycle(head):\n",
    "    slow = head\n",
    "    fast = head\n",
    "    while fast is not None and fast.next is not None:\n",
    "        slow = slow.next\n",
    "        fast = fast.next.next\n",
    "        if slow == fast:\n",
    "            return True\n",
    "    return False"
   ]
  },
  {
   "cell_type": "code",
   "execution_count": 4,
   "id": "4e8ad2ac-5e16-4ad6-ba32-1215bdc5e337",
   "metadata": {},
   "outputs": [],
   "source": [
    "def merge_two_lists(l1, l2):\n",
    "    dummy = Node(0)\n",
    "    current = dummy\n",
    "    while l1 is not None and l2 is not None:\n",
    "        if l1.data < l2.data:\n",
    "            current.next = l1\n",
    "            l1 = l1.next\n",
    "        else:\n",
    "            current.next = l2\n",
    "            l2 = l2.next\n",
    "        current = current.next\n",
    "    current.next = l1 if l1 is not None else l2\n",
    "    return dummy.next"
   ]
  },
  {
   "cell_type": "code",
   "execution_count": 5,
   "id": "9f77f696-15ef-47f4-980b-83429e7c6cbb",
   "metadata": {},
   "outputs": [],
   "source": [
    "def remove_nth_from_end(head, n):\n",
    "    dummy = Node(0, head)\n",
    "    first = dummy\n",
    "    second = dummy\n",
    "    for i in range(n):\n",
    "        first = first.next\n",
    "    while first.next is not None:\n",
    "        first = first.next\n",
    "        second = second.next\n",
    "    second.next = second.next.next\n",
    "    return dummy.next"
   ]
  },
  {
   "cell_type": "code",
   "execution_count": 6,
   "id": "bca36c49-9ac9-48bb-8784-d377fe62f9b3",
   "metadata": {},
   "outputs": [],
   "source": [
    "def delete_duplicates(head):\n",
    "    current = head\n",
    "    while current.next is not None:\n",
    "        if current.data == current.next.data:\n",
    "            current.next = current.next.next\n",
    "        else:\n",
    "            current = current.next\n",
    "    return head"
   ]
  },
  {
   "cell_type": "code",
   "execution_count": 7,
   "id": "b69e58da-066d-4d88-8be4-c78073ebdb99",
   "metadata": {},
   "outputs": [],
   "source": [
    "def get_intersection(headA, headB):\n",
    "    if headA is None or headB is None:\n",
    "        return None\n",
    "    a = headA\n",
    "    b = headB\n",
    "    while a != b:\n",
    "        a = headB if a is None else a.next\n",
    "        b = headA if b is None else b.next\n",
    "    return a"
   ]
  },
  {
   "cell_type": "code",
   "execution_count": 8,
   "id": "6e06cb39-4ed3-4156-8134-917d0e3fb076",
   "metadata": {},
   "outputs": [],
   "source": [
    "def rotate_right(head, k):\n",
    "    if head is None or head.next is None or k == 0:\n",
    "        return head\n",
    "    old_tail = head\n",
    "    length = 1\n",
    "    while old_tail.next is not None:\n",
    "        old_tail = old_tail.next\n",
    "        length += 1\n",
    "    old_tail.next = head\n",
    "    k = k % length\n",
    "    new_tail = head\n",
    "    for i in range(length - k - 1):\n",
    "        new_tail = new_tail.next\n",
    "    new_head = new_tail.next\n",
    "    new_tail.next = None\n",
    "    return new_head"
   ]
  },
  {
   "cell_type": "code",
   "execution_count": 9,
   "id": "e019bd69-6fb6-4d2b-94f2-9f5a7ee11784",
   "metadata": {},
   "outputs": [],
   "source": [
    "def add_two_numbers(l1, l2):\n",
    "    dummy = Node(0)\n",
    "    current = dummy\n",
    "    carry = 0\n",
    "    while l1 is not None or l2 is not None or carry != 0:\n",
    "        sum = carry\n",
    "        if l1 is not None:\n",
    "            sum += l1.data\n",
    "            l1 = l1.next\n",
    "        if l2 is not None:\n",
    "            sum += l2.data\n",
    "            l2 = l2.next\n",
    "        carry = sum // 10\n",
    "        current.next = Node(sum % 10)\n",
    "        current = current.next\n",
    "    return dummy.next"
   ]
  },
  {
   "cell_type": "code",
   "execution_count": 10,
   "id": "bb8e2a93-2f91-45fd-b254-7c4d4f743308",
   "metadata": {},
   "outputs": [],
   "source": [
    "def copy_random_list(head):\n",
    "    if head is None:\n",
    "        return None\n",
    "    mapping = {}\n",
    "    current = head\n",
    "    while current is not None:\n",
    "        mapping[current] = Node(current.data)\n",
    "        current = current.next\n",
    "    current = head\n",
    "    while current is not None:\n",
    "        mapping[current].next = mapping.get(current.next)\n",
    "        mapping[current].random = mapping.get(current.random)\n",
    "        current = current.next\n",
    "    return mapping[head]"
   ]
  },
  {
   "cell_type": "code",
   "execution_count": null,
   "id": "603e7640-0abc-4fec-b644-29c3684c93d4",
   "metadata": {},
   "outputs": [],
   "source": []
  }
 ],
 "metadata": {
  "kernelspec": {
   "display_name": "Python 3 (ipykernel)",
   "language": "python",
   "name": "python3"
  },
  "language_info": {
   "codemirror_mode": {
    "name": "ipython",
    "version": 3
   },
   "file_extension": ".py",
   "mimetype": "text/x-python",
   "name": "python",
   "nbconvert_exporter": "python",
   "pygments_lexer": "ipython3",
   "version": "3.10.8"
  }
 },
 "nbformat": 4,
 "nbformat_minor": 5
}
